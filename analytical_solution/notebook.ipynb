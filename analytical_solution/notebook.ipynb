{
 "cells": [
  {
   "cell_type": "code",
   "execution_count": 2,
   "metadata": {},
   "outputs": [],
   "source": [
    "import numpy as np\n",
    "from constants import *\n",
    "from typing import NamedTuple, Union, Tuple"
   ]
  },
  {
   "cell_type": "markdown",
   "metadata": {},
   "source": [
    "## TODO Functions\n",
    "\n",
    "- $function\\_R(\\Omega, t, \\epsilon)$ - Faith\n",
    "- $function\\_mu(R, \\phi)$ - Faith\n",
    "- $func\\_A\\_matrix(\\mu, Jacobi)$ - Mahan\n",
    "- $func\\_C\\_matrix(A, R, \\phi)$ - Mahan\n",
    "- $func\\_state\\_n(hermite)$ - Faith\n",
    "- $\\psi (C, n)$ - Mahan"
   ]
  },
  {
   "cell_type": "markdown",
   "metadata": {},
   "source": [
    "## Structs"
   ]
  },
  {
   "cell_type": "code",
   "execution_count": null,
   "metadata": {},
   "outputs": [],
   "source": [
    "class ABInput(NamedTuple):\n",
    "    w1: Union[float, int]\n",
    "    w2: Union[float, int]\n",
    "    A12: Union[float, int]\n",
    "    A21: Union[float, int]\n",
    "    B: Union[float, int]\n",
    "    C: Union[float, int]\n",
    "\n",
    "class MuInput(NamedTuple):\n",
    "    R: float\n",
    "    phi: float\n",
    "\n",
    "class FunctionAInput(NamedTuple):\n",
    "    mu: float\n",
    "    s1: int\n",
    "    s2: int\n",
    "\n",
    "class FunctionCInput(NamedTuple):\n",
    "    A: np.ndarray\n",
    "    R: float\n",
    "    phi: float\n",
    "\n",
    "class FunctionStateNInput(NamedTuple):\n",
    "    n: int\n",
    "    x: float\n",
    "\n",
    "class FunctionRInput(NamedTuple):\n",
    "    Omega: float\n",
    "    t: float\n",
    "    epsilon: float"
   ]
  },
  {
   "cell_type": "markdown",
   "metadata": {},
   "source": [
    "## Functions"
   ]
  },
  {
   "cell_type": "code",
   "execution_count": null,
   "metadata": {},
   "outputs": [],
   "source": [
    "def function_R(FunctionRInput) -> float:\n",
    "    ...\n",
    "    \n",
    "def function_mu(mu_input: MuInput) -> float:\n",
    "    ...\n",
    "\n",
    "\n",
    "def func_A_matrix(m_input: FunctionAInput) -> np.ndarray:\n",
    "    ...\n",
    "\n",
    "def func_C_matrix(m_input: FunctionCInput) -> np.ndarray:\n",
    "    ...\n",
    "\n",
    "def func_state_n(m_input: FunctionStateNInput) -> np.ndarray:\n",
    "    ...\n",
    "\n",
    "\n",
    "def psi(n_imput):\n",
    "    ..."
   ]
  }
 ],
 "metadata": {
  "kernelspec": {
   "display_name": "pytorch",
   "language": "python",
   "name": "python3"
  },
  "language_info": {
   "codemirror_mode": {
    "name": "ipython",
    "version": 3
   },
   "file_extension": ".py",
   "mimetype": "text/x-python",
   "name": "python",
   "nbconvert_exporter": "python",
   "pygments_lexer": "ipython3",
   "version": "3.11.9"
  }
 },
 "nbformat": 4,
 "nbformat_minor": 2
}
